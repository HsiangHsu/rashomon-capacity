{
 "cells": [
  {
   "cell_type": "code",
   "execution_count": 1,
   "id": "ef6f87d3",
   "metadata": {},
   "outputs": [],
   "source": [
    "import numpy as np\n",
    "from sklearn.ensemble import RandomForestClassifier as rf\n",
    "from sklearn.ensemble import GradientBoostingClassifier as GBC\n",
    "from sklearn.neural_network import MLPClassifier as MLP\n",
    "from sklearn.tree import DecisionTreeClassifier as Tree\n",
    "import pandas as pd\n",
    "import matplotlib.pyplot as plt\n",
    "import seaborn as sns\n",
    "from tqdm import tqdm\n",
    "from sklearn.model_selection import train_test_split\n",
    "from scipy.stats import sem\n",
    "\n",
    "import sys\n",
    "sys.path.insert(1, './awp/utils/')\n",
    "\n",
    "from DataLoader import *\n",
    "from capacity import *\n",
    "\n",
    "import warnings\n",
    "warnings.filterwarnings('ignore')\n",
    "sns.set()\n",
    "sns.set_style('whitegrid')\n",
    "%matplotlib inline"
   ]
  },
  {
   "cell_type": "code",
   "execution_count": 14,
   "id": "9cb0e223",
   "metadata": {},
   "outputs": [],
   "source": [
    "df = load_data(name='compas')\n",
    "X = df.drop(['is_recid'], axis=1).values\n",
    "y = df['is_recid'].values"
   ]
  },
  {
   "cell_type": "code",
   "execution_count": 15,
   "id": "306f759c",
   "metadata": {},
   "outputs": [],
   "source": [
    "X_full,X_test,y_full,y_test = train_test_split(X,y,test_size=.25,random_state=210)\n",
    "X_train,X_val,y_train,y_val = train_test_split(X_full,y_full,test_size=.333,random_state=320)"
   ]
  },
  {
   "cell_type": "code",
   "execution_count": 16,
   "id": "c151b6bf-3848-42c5-a541-71efd1cc047c",
   "metadata": {},
   "outputs": [
    {
     "name": "stderr",
     "output_type": "stream",
     "text": [
      "100%|█████████████████████████████████████████████████████████████████████████████████████████████████████████████████████████████████████████████| 1000/1000 [11:45<00:00,  1.42it/s]\n"
     ]
    }
   ],
   "source": [
    "n_models = 1000\n",
    "n_classes = 2\n",
    "seeds = np.arange(0,n_models)\n",
    "\n",
    "acc = np.zeros(n_models)\n",
    "outputs = np.zeros((n_models, len(y_test), n_classes))\n",
    "loss = np.zeros((n_models,len(y_test)))\n",
    "loss_mean = np.zeros(n_models)\n",
    "loss_sem = np.zeros(n_models)\n",
    "\n",
    "\n",
    "outputs_val = np.zeros((n_models, len(y_val), n_classes))\n",
    "loss_val = np.zeros((n_models,len(y_val)))\n",
    "loss_mean_val = np.zeros(n_models)\n",
    "loss_sem_val = np.zeros(n_models)\n",
    "\n",
    "k = 0\n",
    "for seed in tqdm(seeds):\n",
    "    #model = rf(random_state=seed,n_jobs=-1)\n",
    "    model = MLP(hidden_layer_sizes=(50,50),random_state=seed,max_iter=400)\n",
    "    #model = GBC(random_state=seed)\n",
    "    model.fit(X_train,y_train)\n",
    "    acc[k] = model.score(X_test,y_test)\n",
    "    outputs[k,:,:] = model.predict_proba(X_test)\n",
    "    \n",
    "    loss[k,:] = -y_test*np.log(outputs[k,:,0]+1e-15)-(1-y_test)*np.log(outputs[k,:,1]+1e-15)\n",
    "    \n",
    "    loss_mean[k] = loss[k,:].mean()\n",
    "    loss_sem[k] = sem(loss[k,:])\n",
    "    \n",
    "    # validatopn\n",
    "    outputs_val[k,:,:] = model.predict_proba(X_val)\n",
    "    \n",
    "    loss_val[k,:] = -y_val*np.log(outputs_val[k,:,0]+1e-15)-(1-y_val)*np.log(outputs_val[k,:,1]+1e-15)\n",
    "    \n",
    "    loss_mean_val[k] = loss_val[k,:].mean()\n",
    "    loss_sem_val[k] = sem(loss[k,:])\n",
    "    \n",
    "    k+=1"
   ]
  },
  {
   "cell_type": "code",
   "execution_count": 17,
   "id": "5448126a",
   "metadata": {},
   "outputs": [
    {
     "name": "stdout",
     "output_type": "stream",
     "text": [
      "0.6734977272727274 0.009750818494758407\n"
     ]
    }
   ],
   "source": [
    "print(acc.mean(), acc.std())"
   ]
  },
  {
   "cell_type": "code",
   "execution_count": 19,
   "id": "7bd18c72",
   "metadata": {},
   "outputs": [],
   "source": [
    "epsilon = 0.05\n",
    "bins = 20\n",
    "nmodels = 20\n",
    "initial_model_idx = 1"
   ]
  },
  {
   "cell_type": "code",
   "execution_count": 20,
   "id": "8bb55e8e-a488-41c6-a2cb-25ae91fac55f",
   "metadata": {},
   "outputs": [],
   "source": [
    "n_val = y_val.shape[0]\n",
    "good_models = np.where(loss_mean_val<loss_mean_val.min()+epsilon)\n",
    "good_outputs = outputs[good_models[0], :, :]\n",
    "\n",
    "ngood = good_models[0].shape[0]"
   ]
  },
  {
   "cell_type": "code",
   "execution_count": 21,
   "id": "64b843f1",
   "metadata": {},
   "outputs": [
    {
     "name": "stdout",
     "output_type": "stream",
     "text": [
      "163\n"
     ]
    }
   ],
   "source": [
    "print(ngood)"
   ]
  },
  {
   "cell_type": "code",
   "execution_count": 22,
   "id": "0d9c918d-0dbb-428e-bcc3-95651a723560",
   "metadata": {},
   "outputs": [],
   "source": [
    "n_test = y_test.shape[0]\n",
    "cap_rashomon = compute_capacity(good_outputs)"
   ]
  },
  {
   "cell_type": "code",
   "execution_count": 23,
   "id": "57c4b3af",
   "metadata": {},
   "outputs": [
    {
     "name": "stderr",
     "output_type": "stream",
     "text": [
      "100%|██████████████████████████████████████████████████████████████████████████████████████████████████████████████████████████████████████████████| 20/20 [1:50:38<00:00, 331.93s/it]\n"
     ]
    }
   ],
   "source": [
    "## true greedy\n",
    "selected_model = []\n",
    "selected_model.append(initial_model_idx)\n",
    "channel_greedy = good_outputs[initial_model_idx, :, :].reshape(1, n_test, 2)\n",
    "\n",
    "\n",
    "for i in tqdm(range(nmodels)):\n",
    "    cap_model = np.zeros((ngood-len(selected_model), n_test))\n",
    "    cnt = 0\n",
    "    for j in range(ngood):\n",
    "        \n",
    "        if j not in selected_model:\n",
    "            channel = np.vstack((channel_greedy, good_outputs[cnt, :, :].reshape(1, n_test, 2)))\n",
    "            cap_model[cnt, :] = compute_capacity(channel)\n",
    "            cnt += 1\n",
    "        \n",
    "    cap_max = cap_model.sum(axis=1)\n",
    "    cap_idx = np.argsort(cap_max)\n",
    "    \n",
    "    max_idx = cap_idx[-1]\n",
    "    \n",
    "    selected_model.append(max_idx)\n",
    "    channel_greedy = np.vstack((channel_greedy, good_outputs[max_idx, :, :].reshape(1, n_test, 2)))"
   ]
  },
  {
   "cell_type": "code",
   "execution_count": 24,
   "id": "8e2ba2f8",
   "metadata": {},
   "outputs": [],
   "source": [
    "np.savez_compressed('./compas-resolve-'+str(nmodels)+'.npz', \n",
    "                    outputs=outputs,\n",
    "                    loss_mean_val=loss_mean_val,\n",
    "                    channel_greedy=channel_greedy,\n",
    "                    cap_rashomon=cap_rashomon)"
   ]
  },
  {
   "cell_type": "code",
   "execution_count": 25,
   "id": "fcf9d02d",
   "metadata": {},
   "outputs": [],
   "source": [
    "cap_greedy = compute_capacity(channel_greedy)"
   ]
  },
  {
   "cell_type": "code",
   "execution_count": 26,
   "id": "038b998a",
   "metadata": {},
   "outputs": [
    {
     "data": {
      "image/png": "[encoded data removed]",
      "text/plain": [
       "<Figure size 432x144 with 1 Axes>"
      ]
     },
     "metadata": {
      "needs_background": "light"
     },
     "output_type": "display_data"
    }
   ],
   "source": [
    "fig, ax = plt.subplots(1, 1, figsize=(6, 2))\n",
    "sns.histplot(2**cap_rashomon, bins=bins, log_scale=(False, True), \n",
    "             cumulative=False, stat='count', ax=ax, color='orange', alpha=0.5, label=r'Rashomon Set ({} models, $\\epsilon$ = {:.2f})'.format(ngood, epsilon))\n",
    "sns.histplot(2**cap_greedy, bins=bins, log_scale=(False, True), \n",
    "             cumulative=False, stat='count', ax=ax, color='red', alpha=0.5, label='Greedy ({} models)'.format(nmodels))\n",
    "\n",
    "ax.set_ylabel('Count')\n",
    "ax.set_xlabel(r'$2^{Rashomon\\ \\ Capacity}$');\n",
    "ax.legend(loc='upper right')\n",
    "# ax.set_xlim(1.1, 2.01)\n",
    "plt.savefig('compas-resolve-'+str(nmodels)+'.png', format='png', dpi=300, bbox_inches='tight')"
   ]
  },
  {
   "cell_type": "code",
   "execution_count": null,
   "id": "9b390fe0",
   "metadata": {},
   "outputs": [],
   "source": []
  }
 ],
 "metadata": {
  "kernelspec": {
   "display_name": "Python 3 (ipykernel)",
   "language": "python",
   "name": "python3"
  },
  "language_info": {
   "codemirror_mode": {
    "name": "ipython",
    "version": 3
   },
   "file_extension": ".py",
   "mimetype": "text/x-python",
   "name": "python",
   "nbconvert_exporter": "python",
   "pygments_lexer": "ipython3",
   "version": "3.9.0"
  }
 },
 "nbformat": 4,
 "nbformat_minor": 5
}
