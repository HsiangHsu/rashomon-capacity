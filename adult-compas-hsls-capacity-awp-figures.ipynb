{
 "cells": [
  {
   "cell_type": "code",
   "execution_count": 2,
   "metadata": {},
   "outputs": [],
   "source": [
    "%load_ext autoreload\n",
    "%autoreload 2\n",
    "\n",
    "import pickle as pkl\n",
    "import gzip\n",
    "import numpy as np\n",
    "import scipy as sp\n",
    "import seaborn as sns\n",
    "import matplotlib\n",
    "import matplotlib.pyplot as plt\n",
    "from tqdm import tqdm\n",
    "import pandas as pd\n",
    "import sys\n",
    "sys.path.insert(1, './awp/utils/')\n",
    "\n",
    "from DataLoader import *\n",
    "from training import *\n",
    "from capacity import *\n",
    "# from plot_helpers import *\n",
    "\n",
    "from sklearn.model_selection import train_test_split\n",
    "\n",
    "import warnings\n",
    "warnings.filterwarnings('ignore')\n",
    "sns.set()\n",
    "sns.set_style('whitegrid')\n",
    "%matplotlib inline"
   ]
  },
  {
   "cell_type": "code",
   "execution_count": 224,
   "metadata": {},
   "outputs": [],
   "source": [
    "def compute_cap_mean_std_eps(loss, scores, epsilon, q, nrepeat):\n",
    "#     capacity = np.zeros((nrepeat, test_likelihood.shape[2]))\n",
    "    cap = np.zeros((len(epsilon), 2))\n",
    "    \n",
    "    cap_rpt_eps = []\n",
    "    for i in range(nrepeat):\n",
    "        cap_eps = []\n",
    "        idx_nan = ~np.isnan(loss[i, :])\n",
    "#         m = loss[i, idx_nan].mean()\n",
    "#         m = loss[i, idx_nan].min()\n",
    "        m = np.sort(loss[i, idx_nan])[1]\n",
    "        \n",
    "        for j in range(len(epsilon)):\n",
    "            idx = (loss[i, :] < m + epsilon[j])\n",
    "            print(m, epsilon[j], idx.sum())\n",
    "            cap_eps.append(compute_capacity(scores[i, idx&idx_nan, :, :]))\n",
    "        cap_rpt_eps.append(cap_eps)    \n",
    "        \n",
    "    \n",
    "    for i in range(len(epsilon)):\n",
    "        for j in range(nrepeat):\n",
    "            cap_q = np.percentile(cap_rpt_eps[j][i], q)\n",
    "            cap[i, 0] += cap_rpt_eps[j][i][cap_rpt_eps[j][i]>cap_q].mean()\n",
    "            cap[i, 1] += cap_rpt_eps[j][i][cap_rpt_eps[j][i]>cap_q].std()\n",
    "            \n",
    "        cap[i, 0] = cap[i, 0]/nrepeat\n",
    "        cap[i, 1] = cap[i, 1]/nrepeat\n",
    "        \n",
    "    return cap\n",
    "\n",
    "def compute_cap_sample(filepath, filename, epsilon, quantile):\n",
    "    data = np.load(filepath+filename+'.npz', allow_pickle=True)\n",
    "    nrepeat = data['nrepeat']\n",
    "    loss = data['test_loss']\n",
    "    scores = data['test_likelihood']\n",
    "    cap = np.zeros((len(quantile), len(epsilon), 2))\n",
    "\n",
    "    for i in tqdm(range(len(quantile))):\n",
    "        q = quantile[i]\n",
    "        cap[i, :, :] = compute_cap_mean_std_eps(loss, scores, epsilon, q, nrepeat)\n",
    "    return cap\n",
    "\n",
    "def compute_cap_rashomon(filepath, filename, epsilon, quantile):\n",
    "    cap = np.zeros((len(quantile), len(epsilon), 2))\n",
    "    for i in range(len(quantile)):\n",
    "        q = quantile[i]\n",
    "        for j in range(len(epsilon)):\n",
    "            data = np.load(filepath+filename+str(epsilon[j])+'.npz', allow_pickle=True)\n",
    "            sample_train_cap = data['sample_train_cap']\n",
    "            nrepeat = sample_train_cap.shape[0]\n",
    "            \n",
    "            for r in range(nrepeat):\n",
    "                cap_q = np.percentile(sample_train_cap[r, :], q)\n",
    "                cap[i, j, 0] += sample_train_cap[r, :][sample_train_cap[r, :]>cap_q].mean()\n",
    "                cap[i, j, 1] += sample_train_cap[r, :][sample_train_cap[r, :]>cap_q].std()\n",
    "                \n",
    "            cap[i, j, 0] = cap[i, j, 0]/nrepeat\n",
    "            cap[i, j, 1] = cap[i, j, 1]/nrepeat\n",
    "    return cap\n",
    "\n",
    "def plot_cum(ax, filepath, filename, epsilon, low=1, up=2, bins=101):\n",
    "    for i in range(len(epsilon)):\n",
    "        data = np.load(filepath+filename+str(epsilon[i])+'.npz', allow_pickle=True)\n",
    "        sample_train_cap = data['sample_train_cap']\n",
    "        nrepeat = sample_train_cap.shape[0]\n",
    "        hist = np.zeros((nrepeat, bins-1))\n",
    "        hist_cumsum = np.zeros((nrepeat, bins-1))\n",
    "        bin_edges = np.zeros((nrepeat, bins))\n",
    "        for j in range(nrepeat):\n",
    "            hist[j, :], bin_edges[j, :] = np.histogram(2**sample_train_cap[j, :], np.linspace(low, up, bins))\n",
    "\n",
    "        hist = hist/hist.sum(axis=1)[0]\n",
    "\n",
    "        for j in range(nrepeat):\n",
    "            hist_cumsum[j, :] = np.cumsum(hist[j, :])\n",
    "\n",
    "        ax.errorbar(bin_edges[0, :bins-1], hist_cumsum.mean(0), yerr=hist_cumsum.std(0), label=r'$\\epsilon$ = {:.2f}'.format(epsilon[i]))\n",
    "        ax.legend(loc='lower right', fontsize=9)\n",
    "        ax.set_xlim(low-0.01, up+0.01)\n",
    "        ax.set_xlabel(r'$2^{Rashomon\\ \\ Capacity}$')\n",
    "        ax.set_ylabel('Cumulative Distribution');\n",
    "    return"
   ]
  },
  {
   "cell_type": "code",
   "execution_count": 281,
   "metadata": {},
   "outputs": [],
   "source": [
    "def compute_cap_mean_std_eps2(loss, scores, epsilon, nrepeat):\n",
    "#     capacity = np.zeros((nrepeat, test_likelihood.shape[2]))\n",
    "#     cap = np.zeros((len(epsilon), 2))\n",
    "    \n",
    "    cap_rpt_eps = []\n",
    "    for i in range(nrepeat):\n",
    "        cap_eps = []\n",
    "        idx_nan = ~np.isnan(loss[i, :])\n",
    "        m = np.sort(loss[i, idx_nan])[1]\n",
    "        \n",
    "        for j in range(len(epsilon)):\n",
    "            idx = (loss[i, :] < m + epsilon[j])\n",
    "            print(m, epsilon[j], idx.sum())\n",
    "            cap_eps.append(compute_capacity(scores[i, idx&idx_nan, :, :]))\n",
    "        cap_rpt_eps.append(cap_eps)    \n",
    "        \n",
    "    return cap_rpt_eps\n",
    "\n",
    "def compute_cap_sample2(filepath, filename, epsilon):\n",
    "    data = np.load(filepath+filename+'.npz', allow_pickle=True)\n",
    "    nrepeat = data['nrepeat']\n",
    "    loss = data['test_loss']\n",
    "    scores = data['test_likelihood']\n",
    "    cap_rpt_eps = compute_cap_mean_std_eps2(loss, scores, epsilon, nrepeat)\n",
    "\n",
    "    return cap_rpt_eps\n",
    "\n",
    "def plot_hist(ax, cap, filepath, filename, epsilon, low=1, up=10, bins=101):\n",
    "    data = np.load(filepath+filename+'.npz', allow_pickle=True)\n",
    "    nrepeat = data['nrepeat']\n",
    "#     loss = data['test_loss']\n",
    "#     scores = data['test_likelihood']\n",
    "    for i in range(len(epsilon)):\n",
    "        hist = np.zeros((nrepeat, bins-1))\n",
    "        hist_cumsum = np.zeros((nrepeat, bins-1))\n",
    "        bin_edges = np.zeros((nrepeat, bins))\n",
    "        for j in range(nrepeat):\n",
    "            hist[j, :], bin_edges[j, :] = np.histogram(2**cap[j][i], np.linspace(low, up, bins))\n",
    "\n",
    "        hist = hist/hist.sum(axis=1)[0]\n",
    "\n",
    "        for j in range(nrepeat):\n",
    "            hist_cumsum[j, :] = np.cumsum(hist[j, :])\n",
    "    \n",
    "        if i == 0 or i == 1:\n",
    "            ccc = 10\n",
    "        else:\n",
    "            ccc = np.sqrt(nrepeat)\n",
    "        ax.errorbar(bin_edges[0, :bins-1], hist_cumsum.mean(0), yerr=hist_cumsum.std(0)/ccc, label=r'$\\epsilon$ = {:.2f}'.format(epsilon[i]))\n",
    "        ax.legend(loc='upper left', fontsize=7)\n",
    "        ax.set_xlim(low-0.01, up+0.01)\n",
    "        ax.set_xlabel(r'$2^{Rashomon\\ \\ Capacity}$')\n",
    "        ax.set_ylabel('Cumulative Distribution');\n",
    "    return"
   ]
  },
  {
   "cell_type": "code",
   "execution_count": 43,
   "metadata": {},
   "outputs": [],
   "source": [
    "# epsilon = np.linspace(0.01, 0.05, 5)\n",
    "epsilon = np.array([0.01, 0.02, 0.05, 0.1])\n",
    "quantile = np.array([95, 99])"
   ]
  },
  {
   "cell_type": "markdown",
   "metadata": {},
   "source": [
    "## Adult"
   ]
  },
  {
   "cell_type": "code",
   "execution_count": 203,
   "metadata": {},
   "outputs": [
    {
     "name": "stderr",
     "output_type": "stream",
     "text": [
      "\r",
      "  0%|                                                                                                                                                                                                   | 0/2 [00:00<?, ?it/s]"
     ]
    },
    {
     "name": "stdout",
     "output_type": "stream",
     "text": [
      "0.5110268592834473 0.01 53\n",
      "0.5110268592834473 0.02 78\n",
      "0.5110268592834473 0.05 99\n",
      "0.5110268592834473 0.1 99\n",
      "0.5065159797668457 0.01 49\n",
      "0.5065159797668457 0.02 72\n",
      "0.5065159797668457 0.05 100\n",
      "0.5065159797668457 0.1 100\n",
      "0.5186782479286194 0.01 48\n",
      "0.5186782479286194 0.02 78\n",
      "0.5186782479286194 0.05 99\n",
      "0.5186782479286194 0.1 99\n",
      "0.5062472224235535 0.01 54\n",
      "0.5062472224235535 0.02 77\n",
      "0.5062472224235535 0.05 100\n",
      "0.5062472224235535 0.1 100\n",
      "0.5154803991317749 0.01 48\n",
      "0.5154803991317749 0.02 79\n",
      "0.5154803991317749 0.05 99\n",
      "0.5154803991317749 0.1 100\n"
     ]
    },
    {
     "name": "stderr",
     "output_type": "stream",
     "text": [
      "\r",
      " 50%|█████████████████████████████████████████████████████████████████████████████████████████████                                                                                             | 1/2 [06:05<06:05, 365.13s/it]"
     ]
    },
    {
     "name": "stdout",
     "output_type": "stream",
     "text": [
      "0.5110268592834473 0.01 53\n",
      "0.5110268592834473 0.02 78\n",
      "0.5110268592834473 0.05 99\n",
      "0.5110268592834473 0.1 99\n",
      "0.5065159797668457 0.01 49\n",
      "0.5065159797668457 0.02 72\n",
      "0.5065159797668457 0.05 100\n",
      "0.5065159797668457 0.1 100\n",
      "0.5186782479286194 0.01 48\n",
      "0.5186782479286194 0.02 78\n",
      "0.5186782479286194 0.05 99\n",
      "0.5186782479286194 0.1 99\n",
      "0.5062472224235535 0.01 54\n",
      "0.5062472224235535 0.02 77\n",
      "0.5062472224235535 0.05 100\n",
      "0.5062472224235535 0.1 100\n",
      "0.5154803991317749 0.01 48\n",
      "0.5154803991317749 0.02 79\n",
      "0.5154803991317749 0.05 99\n",
      "0.5154803991317749 0.1 100\n"
     ]
    },
    {
     "name": "stderr",
     "output_type": "stream",
     "text": [
      "100%|██████████████████████████████████████████████████████████████████████████████████████████████████████████████████████████████████████████████████████████████████████████████████████████| 2/2 [12:03<00:00, 361.99s/it]\n"
     ]
    }
   ],
   "source": [
    "filepath = '../pred-multi-sample-all/results/'\n",
    "filename = 'adult-5-sample-all-32512'\n",
    "\n",
    "cap_sample = compute_cap_sample(filepath, filename, epsilon, quantile)"
   ]
  },
  {
   "cell_type": "code",
   "execution_count": 204,
   "metadata": {},
   "outputs": [],
   "source": [
    "filepath = '../pred-multi-perturb-all/results/'\n",
    "filename = 'adult-3-perturb-all-44124-'\n",
    "cap_perturb = compute_cap_rashomon(filepath, filename, epsilon, quantile)"
   ]
  },
  {
   "cell_type": "code",
   "execution_count": 211,
   "metadata": {},
   "outputs": [
    {
     "data": {
      "image/png": "[encoded data removed]",
      "text/plain": [
       "<Figure size 216x360 with 2 Axes>"
      ]
     },
     "metadata": {
      "needs_background": "light"
     },
     "output_type": "display_data"
    }
   ],
   "source": [
    "x = np.arange(len(epsilon))\n",
    "sample_color = ['dodgerblue', 'mediumblue']\n",
    "capacity_color = ['orange', 'orangered']\n",
    "linestyles = ['-', '--']\n",
    "\n",
    "fig, ax = plt.subplots(2, 1, figsize=(3, 5), gridspec_kw={'height_ratios': [1, 0.7]})\n",
    "for i in range(len(quantile)):\n",
    "    ax[0].errorbar(x, 2**cap_sample[i, :, 0], yerr=cap_sample[i, :, 1], marker='o', color=sample_color[i], \n",
    "                label='Sampling ({:1d}% tail)'.format(100-quantile[i]), linestyle=linestyles[i])\n",
    "\n",
    "for i in range(len(quantile)):\n",
    "    ax[0].errorbar(x, 2**cap_perturb[i, :, 0], yerr=cap_perturb[i, :, 1], marker='s', color=capacity_color[i],\n",
    "                label='AWP ({:1d}% tail)'.format(100-quantile[i]), linestyle=linestyles[i])\n",
    "    \n",
    "ax[0].set_ylim(0.99, 2.01)\n",
    "ax[0].set_xticks(np.arange(len(epsilon)))\n",
    "ax[0].set_xticklabels(['{:.2f}'.format(e) for e in epsilon])\n",
    "ax[0].set_xlabel(r'Rashomon parameter $\\epsilon$')\n",
    "ax[0].set_ylabel(r'$2^{Rashomon\\ \\ Capacity}$');\n",
    "\n",
    "ax[0].legend(ncol=1, loc='upper left', fontsize=9)\n",
    "\n",
    "\n",
    "filepath = '../pred-multi-perturb-all/results/'\n",
    "filename = 'adult-3-perturb-all-44124-'\n",
    "plot_cum(ax[1], filepath, filename, epsilon, low=1, up=2, bins=101)\n",
    "plt.tight_layout(pad=0.1)\n",
    "\n",
    "plt.savefig('./adult-profile.png', format='png', dpi=300, bbox_inches='tight')"
   ]
  },
  {
   "cell_type": "markdown",
   "metadata": {},
   "source": [
    "## COMPAS"
   ]
  },
  {
   "cell_type": "code",
   "execution_count": 212,
   "metadata": {},
   "outputs": [
    {
     "name": "stderr",
     "output_type": "stream",
     "text": [
      "\r",
      "  0%|                                                                                                                                                                                                   | 0/2 [00:00<?, ?it/s]"
     ]
    },
    {
     "name": "stdout",
     "output_type": "stream",
     "text": [
      "0.6246964335441589 0.01 17\n",
      "0.6246964335441589 0.02 69\n",
      "0.6246964335441589 0.05 100\n",
      "0.6246964335441589 0.1 100\n",
      "0.6291394233703613 0.01 15\n",
      "0.6291394233703613 0.02 74\n",
      "0.6291394233703613 0.05 100\n",
      "0.6291394233703613 0.1 100\n",
      "0.6174682974815369 0.01 8\n",
      "0.6174682974815369 0.02 47\n",
      "0.6174682974815369 0.05 100\n",
      "0.6174682974815369 0.1 100\n",
      "0.6191384792327881 0.01 20\n",
      "0.6191384792327881 0.02 69\n",
      "0.6191384792327881 0.05 100\n",
      "0.6191384792327881 0.1 100\n",
      "0.6240813136100769 0.01 17\n",
      "0.6240813136100769 0.02 70\n",
      "0.6240813136100769 0.05 100\n",
      "0.6240813136100769 0.1 100\n"
     ]
    },
    {
     "name": "stderr",
     "output_type": "stream",
     "text": [
      "\r",
      " 50%|█████████████████████████████████████████████████████████████████████████████████████████████▌                                                                                             | 1/2 [00:58<00:58, 58.65s/it]"
     ]
    },
    {
     "name": "stdout",
     "output_type": "stream",
     "text": [
      "0.6246964335441589 0.01 17\n",
      "0.6246964335441589 0.02 69\n",
      "0.6246964335441589 0.05 100\n",
      "0.6246964335441589 0.1 100\n",
      "0.6291394233703613 0.01 15\n",
      "0.6291394233703613 0.02 74\n",
      "0.6291394233703613 0.05 100\n",
      "0.6291394233703613 0.1 100\n",
      "0.6174682974815369 0.01 8\n",
      "0.6174682974815369 0.02 47\n",
      "0.6174682974815369 0.05 100\n",
      "0.6174682974815369 0.1 100\n",
      "0.6191384792327881 0.01 20\n",
      "0.6191384792327881 0.02 69\n",
      "0.6191384792327881 0.05 100\n",
      "0.6191384792327881 0.1 100\n",
      "0.6240813136100769 0.01 17\n",
      "0.6240813136100769 0.02 70\n",
      "0.6240813136100769 0.05 100\n",
      "0.6240813136100769 0.1 100\n"
     ]
    },
    {
     "name": "stderr",
     "output_type": "stream",
     "text": [
      "100%|███████████████████████████████████████████████████████████████████████████████████████████████████████████████████████████████████████████████████████████████████████████████████████████| 2/2 [01:57<00:00, 58.54s/it]\n"
     ]
    }
   ],
   "source": [
    "filepath = '../pred-multi-sample-all/results/'\n",
    "filename = 'compas-5-sample-all-3694'\n",
    "\n",
    "cap_sample = compute_cap_sample(filepath, filename, epsilon, quantile)"
   ]
  },
  {
   "cell_type": "code",
   "execution_count": 215,
   "metadata": {},
   "outputs": [],
   "source": [
    "filepath = '../pred-multi-perturb-all/results/'\n",
    "filename = 'compas-5-perturb-all-3694-'\n",
    "cap_perturb = compute_cap_rashomon(filepath, filename, epsilon, quantile)"
   ]
  },
  {
   "cell_type": "code",
   "execution_count": 216,
   "metadata": {},
   "outputs": [
    {
     "data": {
      "image/png": "[encoded data removed]",
      "text/plain": [
       "<Figure size 216x360 with 2 Axes>"
      ]
     },
     "metadata": {
      "needs_background": "light"
     },
     "output_type": "display_data"
    }
   ],
   "source": [
    "x = np.arange(len(epsilon))\n",
    "sample_color = ['dodgerblue', 'mediumblue', 'indigo']\n",
    "capacity_color = ['orange', 'orangered', 'brown']\n",
    "linestyles = ['-', '--']\n",
    "\n",
    "fig, ax = plt.subplots(2, 1, figsize=(3, 5), gridspec_kw={'height_ratios': [1, 0.7]})\n",
    "for i in range(len(quantile)):\n",
    "    ax[0].errorbar(x, 2**cap_sample[i, :, 0], yerr=cap_sample[i, :, 1], marker='o', color=sample_color[i], \n",
    "                label='Sampling ({:1d}% tail)'.format((100-quantile[i])), linestyle=linestyles[i])\n",
    "    \n",
    "for i in range(len(quantile)):\n",
    "    ax[0].errorbar(x, 2**cap_perturb[i, :, 0], yerr=cap_perturb[i, :, 1], marker='s', color=capacity_color[i],\n",
    "                label='AWP ({:1d}% tail)'.format((100-quantile[i])), linestyle=linestyles[i])\n",
    "    \n",
    "ax[0].set_ylim(0.99, 2.01)\n",
    "ax[0].set_xticks(np.arange(len(epsilon)))\n",
    "ax[0].set_xticklabels(['{:.2f}'.format(e) for e in epsilon])\n",
    "ax[0].set_xlabel(r'Rashomon parameter $\\epsilon$')\n",
    "ax[0].set_ylabel(r'$2^{Rashomon\\ \\ Capacity}$');\n",
    "ax[0].legend(loc='upper left', fontsize=9)\n",
    "\n",
    "filepath = '../pred-multi-perturb-all/results/'\n",
    "filename = 'compas-5-perturb-all-3694-'\n",
    "plot_cum(ax[1], filepath, filename, epsilon, low=1, up=2, bins=101)\n",
    "\n",
    "plt.tight_layout(pad=0.1)\n",
    "plt.savefig('./compas-profile.png', format='png', dpi=300, bbox_inches='tight')"
   ]
  },
  {
   "cell_type": "markdown",
   "metadata": {},
   "source": [
    "## HSLS"
   ]
  },
  {
   "cell_type": "code",
   "execution_count": 217,
   "metadata": {},
   "outputs": [
    {
     "name": "stderr",
     "output_type": "stream",
     "text": [
      "\r",
      "  0%|                                                                                                                                                                                                   | 0/2 [00:00<?, ?it/s]"
     ]
    },
    {
     "name": "stdout",
     "output_type": "stream",
     "text": [
      "0.6926256418228149 0.01 100\n",
      "0.6926256418228149 0.02 100\n",
      "0.6926256418228149 0.05 100\n",
      "0.6926256418228149 0.1 100\n",
      "0.6927840113639832 0.01 100\n",
      "0.6927840113639832 0.02 100\n",
      "0.6927840113639832 0.05 100\n",
      "0.6927840113639832 0.1 100\n",
      "0.6926348805427551 0.01 100\n",
      "0.6926348805427551 0.02 100\n",
      "0.6926348805427551 0.05 100\n",
      "0.6926348805427551 0.1 100\n",
      "0.6926311254501343 0.01 100\n",
      "0.6926311254501343 0.02 100\n",
      "0.6926311254501343 0.05 100\n",
      "0.6926311254501343 0.1 100\n",
      "0.6931743025779724 0.01 100\n",
      "0.6931743025779724 0.02 100\n",
      "0.6931743025779724 0.05 100\n",
      "0.6931743025779724 0.1 100\n"
     ]
    },
    {
     "name": "stderr",
     "output_type": "stream",
     "text": [
      "\r",
      " 50%|█████████████████████████████████████████████████████████████████████████████████████████████▌                                                                                             | 1/2 [00:30<00:30, 30.14s/it]"
     ]
    },
    {
     "name": "stdout",
     "output_type": "stream",
     "text": [
      "0.6926256418228149 0.01 100\n",
      "0.6926256418228149 0.02 100\n",
      "0.6926256418228149 0.05 100\n",
      "0.6926256418228149 0.1 100\n",
      "0.6927840113639832 0.01 100\n",
      "0.6927840113639832 0.02 100\n",
      "0.6927840113639832 0.05 100\n",
      "0.6927840113639832 0.1 100\n",
      "0.6926348805427551 0.01 100\n",
      "0.6926348805427551 0.02 100\n",
      "0.6926348805427551 0.05 100\n",
      "0.6926348805427551 0.1 100\n",
      "0.6926311254501343 0.01 100\n",
      "0.6926311254501343 0.02 100\n",
      "0.6926311254501343 0.05 100\n",
      "0.6926311254501343 0.1 100\n",
      "0.6931743025779724 0.01 100\n",
      "0.6931743025779724 0.02 100\n",
      "0.6931743025779724 0.05 100\n",
      "0.6931743025779724 0.1 100\n"
     ]
    },
    {
     "name": "stderr",
     "output_type": "stream",
     "text": [
      "100%|███████████████████████████████████████████████████████████████████████████████████████████████████████████████████████████████████████████████████████████████████████████████████████████| 2/2 [00:58<00:00, 29.42s/it]\n"
     ]
    }
   ],
   "source": [
    "filepath = '../pred-multi-sample-all/results/'\n",
    "filename = 'hsls-5-sample-all-10155'\n",
    "cap_sample = compute_cap_sample(filepath, filename, epsilon, quantile)"
   ]
  },
  {
   "cell_type": "code",
   "execution_count": 218,
   "metadata": {},
   "outputs": [],
   "source": [
    "filepath = '../pred-multi-perturb-all/results/'\n",
    "filename = 'hsls-3-perturb-all-13057-'\n",
    "cap_perturb = compute_cap_rashomon(filepath, filename, epsilon, quantile)"
   ]
  },
  {
   "cell_type": "code",
   "execution_count": 219,
   "metadata": {},
   "outputs": [
    {
     "data": {
      "image/png": "[encoded data removed]",
      "text/plain": [
       "<Figure size 216x360 with 2 Axes>"
      ]
     },
     "metadata": {
      "needs_background": "light"
     },
     "output_type": "display_data"
    }
   ],
   "source": [
    "x = np.arange(len(epsilon))\n",
    "sample_color = ['dodgerblue', 'mediumblue', 'indigo']\n",
    "capacity_color = ['orange', 'orangered', 'brown']\n",
    "linestyles = ['-', '--']\n",
    "\n",
    "fig, ax = plt.subplots(2, 1, figsize=(3, 5), gridspec_kw={'height_ratios': [1, 0.7]})\n",
    "for i in range(len(quantile)):\n",
    "    ax[0].errorbar(x, 2**cap_sample[i, :, 0], yerr=cap_sample[i, :, 1], marker='o', color=sample_color[i], \n",
    "                label='Sampling ({:1d}% tail)'.format((100-quantile[i])), linestyle=linestyles[i])\n",
    "    \n",
    "for i in range(len(quantile)):\n",
    "    ax[0].errorbar(x, 2**cap_perturb[i, :, 0], yerr=cap_perturb[i, :, 1], marker='s', color=capacity_color[i],\n",
    "                label='AWP ({:1d}% tail)'.format((100-quantile[i])), linestyle=linestyles[i])\n",
    "    \n",
    "ax[0].set_ylim(0.99, 2.01)\n",
    "ax[0].set_xticks(np.arange(len(epsilon)))\n",
    "ax[0].set_xticklabels(['{:.2f}'.format(e) for e in epsilon])\n",
    "ax[0].set_xlabel(r'Rashomon parameter $\\epsilon$')\n",
    "ax[0].set_ylabel(r'$2^{Rashomon\\ \\ Capacity}$');\n",
    "ax[0].legend(loc='upper left', fontsize=9)\n",
    "\n",
    "filepath = '../pred-multi-perturb-all/results/'\n",
    "filename = 'hsls-3-perturb-all-13057-'\n",
    "plot_cum(ax[1], filepath, filename, epsilon, low=1, up=2, bins=101)\n",
    "\n",
    "plt.tight_layout(pad=0.1)\n",
    "plt.savefig('./hsls-profile.png', format='png', dpi=300, bbox_inches='tight')"
   ]
  },
  {
   "cell_type": "markdown",
   "metadata": {},
   "source": [
    "## CIFAR-10"
   ]
  },
  {
   "cell_type": "code",
   "execution_count": 225,
   "metadata": {},
   "outputs": [
    {
     "name": "stderr",
     "output_type": "stream",
     "text": [
      "\r",
      "  0%|                                                                                                                                                                                                   | 0/2 [00:00<?, ?it/s]"
     ]
    },
    {
     "name": "stdout",
     "output_type": "stream",
     "text": [
      "0.4694593624501932 0.01 6\n",
      "0.4694593624501932 0.02 9\n",
      "0.4694593624501932 0.05 21\n",
      "0.4694593624501932 0.1 34\n",
      "0.47598873665098285 0.01 2\n",
      "0.47598873665098285 0.02 4\n",
      "0.47598873665098285 0.05 16\n",
      "0.47598873665098285 0.1 42\n"
     ]
    },
    {
     "name": "stderr",
     "output_type": "stream",
     "text": [
      "\r",
      " 50%|█████████████████████████████████████████████████████████████████████████████████████████████▌                                                                                             | 1/2 [00:41<00:41, 41.17s/it]"
     ]
    },
    {
     "name": "stdout",
     "output_type": "stream",
     "text": [
      "0.4694593624501932 0.01 6\n",
      "0.4694593624501932 0.02 9\n",
      "0.4694593624501932 0.05 21\n",
      "0.4694593624501932 0.1 34\n",
      "0.47598873665098285 0.01 2\n",
      "0.47598873665098285 0.02 4\n",
      "0.47598873665098285 0.05 16\n",
      "0.47598873665098285 0.1 42\n"
     ]
    },
    {
     "name": "stderr",
     "output_type": "stream",
     "text": [
      "100%|███████████████████████████████████████████████████████████████████████████████████████████████████████████████████████████████████████████████████████████████████████████████████████████| 2/2 [01:20<00:00, 40.21s/it]\n"
     ]
    }
   ],
   "source": [
    "filepath = '../pred-multi-sample-all/results/'\n",
    "filename = 'cifar10-2-sample-all-53999'\n",
    "cap_sample = compute_cap_sample(filepath, filename, epsilon, quantile)"
   ]
  },
  {
   "cell_type": "code",
   "execution_count": 238,
   "metadata": {},
   "outputs": [],
   "source": [
    "filepath = '../pred-multi-perturb-all/results/'\n",
    "filename = 'cifar10-2-vgg-perturb-all-50-'\n",
    "cap_perturb = compute_cap_rashomon(filepath, filename, epsilon, quantile)"
   ]
  },
  {
   "cell_type": "code",
   "execution_count": 264,
   "metadata": {},
   "outputs": [
    {
     "name": "stdout",
     "output_type": "stream",
     "text": [
      "0.4694593624501932 0.01 6\n",
      "0.4694593624501932 0.02 9\n",
      "0.4694593624501932 0.05 21\n",
      "0.4694593624501932 0.1 34\n",
      "0.47598873665098285 0.01 2\n",
      "0.47598873665098285 0.02 4\n",
      "0.47598873665098285 0.05 16\n",
      "0.47598873665098285 0.1 42\n"
     ]
    }
   ],
   "source": [
    "filepath = '../pred-multi-sample-all/results/'\n",
    "filename = 'cifar10-2-sample-all-53999'\n",
    "cap_rpt_eps = compute_cap_sample2(filepath, filename, epsilon)"
   ]
  },
  {
   "cell_type": "code",
   "execution_count": 284,
   "metadata": {},
   "outputs": [
    {
     "data": {
      "image/png": "[encoded data removed]",
      "text/plain": [
       "<Figure size 216x360 with 2 Axes>"
      ]
     },
     "metadata": {
      "needs_background": "light"
     },
     "output_type": "display_data"
    }
   ],
   "source": [
    "x = np.arange(len(epsilon))\n",
    "sample_color = ['dodgerblue', 'mediumblue', 'indigo']\n",
    "capacity_color = ['orange', 'orangered', 'brown']\n",
    "\n",
    "fig, ax = plt.subplots(2, 1, figsize=(3, 5), gridspec_kw={'height_ratios': [1, 0.7]})\n",
    "for i in range(len(quantile)):\n",
    "    ax[0].errorbar(x, 2**cap_perturb[i, :, 0], yerr=cap_sample[i, :, 1], marker='o', color=sample_color[i], \n",
    "                label='Sampling ({:1d}% tail)'.format((100-quantile[i])))\n",
    "    \n",
    "for i in range(len(quantile)):\n",
    "    ax[0].errorbar(x, 2**cap_sample[i, :, 0], yerr=cap_perturb[i, :, 1], marker='s', color=capacity_color[i],\n",
    "                label='AWP ({:1d}% tail)'.format((100-quantile[i])))\n",
    "    \n",
    "ax[0].set_ylim(0.99, 10.01)\n",
    "ax[0].set_xticks(np.arange(len(epsilon)))\n",
    "ax[0].set_xticklabels(['{:.2f}'.format(e) for e in epsilon])\n",
    "ax[0].set_xlabel(r'Rashomon parameter $\\epsilon$')\n",
    "ax[0].set_ylabel(r'$2^{Rashomon\\ \\ Capacity}$');\n",
    "ax[0].legend(loc='center right', fontsize=7, bbox_to_anchor=[1.0, 0.15])\n",
    "\n",
    "## \n",
    "filepath = '../pred-multi-sample-all/results/'\n",
    "filename = 'cifar10-2-sample-all-53999'\n",
    "plot_hist(ax[1], cap_rpt_eps, filepath, filename, epsilon)\n",
    "\n",
    "plt.tight_layout(pad=0.1)\n",
    "plt.savefig('./cifar10-profile.png', format='png', dpi=300, bbox_inches='tight')"
   ]
  }
 ],
 "metadata": {
  "kernelspec": {
   "display_name": "Python 3 (ipykernel)",
   "language": "python",
   "name": "python3"
  },
  "language_info": {
   "codemirror_mode": {
    "name": "ipython",
    "version": 3
   },
   "file_extension": ".py",
   "mimetype": "text/x-python",
   "name": "python",
   "nbconvert_exporter": "python",
   "pygments_lexer": "ipython3",
   "version": "3.9.0"
  }
 },
 "nbformat": 4,
 "nbformat_minor": 2
}
