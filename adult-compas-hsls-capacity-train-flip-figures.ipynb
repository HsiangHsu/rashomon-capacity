{
 "cells": [
  {
   "cell_type": "code",
   "execution_count": 1,
   "metadata": {},
   "outputs": [],
   "source": [
    "%load_ext autoreload\n",
    "%autoreload 2\n",
    "\n",
    "import pickle as pkl\n",
    "import gzip\n",
    "import numpy as np\n",
    "import scipy as sp\n",
    "import seaborn as sns\n",
    "import matplotlib\n",
    "import matplotlib.pyplot as plt\n",
    "from tqdm import tqdm\n",
    "import pandas as pd\n",
    "import sys\n",
    "sys.path.insert(1, './awp/utils/')\n",
    "\n",
    "from DataLoader import *\n",
    "from training import *\n",
    "from capacity import *\n",
    "\n",
    "## scikit learn\n",
    "from sklearn.model_selection import train_test_split\n",
    "from sklearn.linear_model import LogisticRegression, LogisticRegressionCV, SGDClassifier\n",
    "from sklearn.ensemble import RandomForestClassifier\n",
    "from sklearn.neural_network import MLPClassifier\n",
    "from sklearn.naive_bayes import GaussianNB\n",
    "from sklearn.tree import DecisionTreeClassifier\n",
    "from sklearn.svm import SVC\n",
    "from sklearn import model_selection\n",
    "from sklearn.metrics import accuracy_score, log_loss\n",
    "\n",
    "from sklearn.model_selection import train_test_split\n",
    "\n",
    "import warnings\n",
    "warnings.filterwarnings('ignore')\n",
    "sns.set()\n",
    "sns.set_style('whitegrid')\n",
    "%matplotlib inline"
   ]
  },
  {
   "cell_type": "code",
   "execution_count": 87,
   "metadata": {},
   "outputs": [],
   "source": [
    "def flip_train(X_train, X_test, y_train, y_test, n, model):\n",
    "    base_model = model.fit(X_train, y_train)\n",
    "    print(base_model.score(X_train, y_train), base_model.score(X_test, y_test))\n",
    "    base_acc = base_model.score(X_test, y_test)\n",
    "    base_prob = base_model.predict_proba(X_train)\n",
    "    \n",
    "    flip_prob = np.zeros((n, 2))\n",
    "    acc = np.zeros((n,))\n",
    "    for i in tqdm(range(n)):\n",
    "        y_train_flip = y_train.copy()\n",
    "        y_train_flip[i] = 1-y_train[i]\n",
    "\n",
    "        assert (y_train_flip!=y_train).sum() == 1\n",
    "\n",
    "        model = model.fit(X_train, y_train_flip)\n",
    "\n",
    "        flip_prob[i, :] = model.predict_proba(X_train[i, :].reshape(1, -1))\n",
    "        acc[i] = model.score(X_test, y_test)\n",
    "    \n",
    "    likelihood = np.zeros((2, n, 2))\n",
    "    likelihood[0, :, :] = base_prob[:n, :]\n",
    "    likelihood[1, :, :] = flip_prob\n",
    "    \n",
    "    cap = compute_capacity(likelihood)\n",
    "    return cap, base_acc, acc"
   ]
  },
  {
   "cell_type": "code",
   "execution_count": 103,
   "metadata": {},
   "outputs": [],
   "source": [
    "def compute_cap_eps(cap, base_loss, loss, tols, quantiles):\n",
    "    cap_mean = np.zeros((len(quantile), len(tols)))\n",
    "    cap_std = np.zeros((len(quantile), len(tols)))\n",
    "    \n",
    "    for i in range(len(tols)):\n",
    "        idx = loss <= base_loss + tols[i]\n",
    "        cap_tol = cap[idx]\n",
    "        for j in range(len(quantiles)):\n",
    "            cap_q = np.percentile(cap_tol, quantile[j])\n",
    "            cap_mean[j, i] = cap_tol[cap_tol > cap_q].mean()\n",
    "            cap_std[j, i] = cap_tol[cap_tol > cap_q].std()/(cap_tol > cap_q).sum()\n",
    "            \n",
    "    return cap_mean, cap_std"
   ]
  },
  {
   "cell_type": "code",
   "execution_count": 69,
   "metadata": {},
   "outputs": [],
   "source": [
    "ntest = 0.3\n",
    "n = 1000\n",
    "model = LogisticRegression(random_state=1)"
   ]
  },
  {
   "cell_type": "code",
   "execution_count": 88,
   "metadata": {},
   "outputs": [
    {
     "name": "stdout",
     "output_type": "stream",
     "text": [
      "0.6802923659989172 0.6660353535353535\n"
     ]
    },
    {
     "name": "stderr",
     "output_type": "stream",
     "text": [
      "100%|█████████████████████████████████████████████████████████████████████████████████████████████████████████████████████████████████████████████████████████████| 1000/1000 [00:28<00:00, 35.40it/s]\n"
     ]
    }
   ],
   "source": [
    "df = load_data(name='compas')\n",
    "X = df.drop(['is_recid'], axis=1).values\n",
    "y = df['is_recid'].values\n",
    "X_train, X_test, y_train, y_test = train_test_split(X, y, test_size=ntest, random_state=42)\n",
    "compas_cap, compas_base_loss, compas_loss = flip_train(X_train, X_test, y_train, y_test, n, model)"
   ]
  },
  {
   "cell_type": "code",
   "execution_count": 89,
   "metadata": {},
   "outputs": [
    {
     "name": "stdout",
     "output_type": "stream",
     "text": [
      "0.7336549822764868 0.7323684815070066\n"
     ]
    },
    {
     "name": "stderr",
     "output_type": "stream",
     "text": [
      "100%|█████████████████████████████████████████████████████████████████████████████████████████████████████████████████████████████████████████████████████████████| 1000/1000 [01:20<00:00, 12.44it/s]\n"
     ]
    }
   ],
   "source": [
    "df = load_hsls('./data/HSLS/', 'hsls_df_knn_impute_past_v2.pkl', [])\n",
    "X = df.drop(['gradebin'], axis=1).values\n",
    "y = df['gradebin'].values\n",
    "X_train, X_test, y_train, y_test = train_test_split(X, y, test_size=ntest, random_state=42)\n",
    "hsls_cap, hsls_base_loss, hsls_loss = flip_train(X_train, X_test, y_train, y_test, n, model)"
   ]
  },
  {
   "cell_type": "code",
   "execution_count": 93,
   "metadata": {},
   "outputs": [],
   "source": [
    "quantile = np.array([95, 99])\n",
    "tols = np.array([0.01, 0.02, 0.05, 0.10])"
   ]
  },
  {
   "cell_type": "code",
   "execution_count": 104,
   "metadata": {},
   "outputs": [],
   "source": [
    "compas_cap_mean, compas_cap_std = compute_cap_eps(compas_cap, compas_base_loss, compas_loss, tols, quantile)\n",
    "hsls_cap_mean, hsls_cap_std = compute_cap_eps(hsls_cap, hsls_base_loss, hsls_loss, tols, quantile)"
   ]
  },
  {
   "cell_type": "code",
   "execution_count": 110,
   "metadata": {},
   "outputs": [
    {
     "data": {
      "image/png": "[encoded data removed]",
      "text/plain": [
       "<Figure size 432x216 with 1 Axes>"
      ]
     },
     "metadata": {
      "needs_background": "light"
     },
     "output_type": "display_data"
    }
   ],
   "source": [
    "fig, ax = plt.subplots(1, 1, figsize=(6, 3))\n",
    "compas_color = ['dodgerblue', 'mediumblue']\n",
    "hsls_color = ['orange', 'orangered']\n",
    "x = np.arange(len(tols))\n",
    "\n",
    "for i in range(len(quantile)):\n",
    "    ax.errorbar(x, y=2**compas_cap_mean[i, :], yerr=compas_cap_std[i, :], \n",
    "                label='COMPAS ({:1d}% tail)'.format(100-quantile[i]), color=compas_color[i])\n",
    "# ax.errorbar(x, y=2**compas_cap_mean[1, :], yerr=compas_cap_std[1, :])\n",
    "for i in range(len(quantile)):\n",
    "    ax.errorbar(x, y=2**hsls_cap_mean[i, :], yerr=hsls_cap_std[i, :], \n",
    "                label='HSLS ({:1d}% tail)'.format(100-quantile[i]), color=hsls_color[i])\n",
    "    \n",
    "ax.set_xticks(np.arange(len(tols)))\n",
    "ax.set_xticklabels(['{:.2f}'.format(e) for e in tols])\n",
    "ax.set_xlabel(r'Rashomon parameter $\\epsilon$')\n",
    "ax.set_ylabel(r'$2^{Rashomon\\ \\ Capacity}$');\n",
    "ax.legend(loc='center', ncol=2)\n",
    "\n",
    "plt.tight_layout()\n",
    "plt.savefig('compas-hsls-flip.png', format='png', dpi=300)"
   ]
  }
 ],
 "metadata": {
  "kernelspec": {
   "display_name": "Python 3 (ipykernel)",
   "language": "python",
   "name": "python3"
  },
  "language_info": {
   "codemirror_mode": {
    "name": "ipython",
    "version": 3
   },
   "file_extension": ".py",
   "mimetype": "text/x-python",
   "name": "python",
   "nbconvert_exporter": "python",
   "pygments_lexer": "ipython3",
   "version": "3.9.0"
  }
 },
 "nbformat": 4,
 "nbformat_minor": 2
}
