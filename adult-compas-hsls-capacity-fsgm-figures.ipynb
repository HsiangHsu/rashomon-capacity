{
 "cells": [
  {
   "cell_type": "code",
   "execution_count": 1,
   "metadata": {},
   "outputs": [],
   "source": [
    "%load_ext autoreload\n",
    "%autoreload 2\n",
    "\n",
    "import pickle as pkl\n",
    "import gzip\n",
    "import numpy as np\n",
    "import scipy as sp\n",
    "import seaborn as sns\n",
    "import matplotlib\n",
    "import matplotlib.pyplot as plt\n",
    "from tqdm import tqdm\n",
    "import pandas as pd\n",
    "import sys\n",
    "sys.path.insert(1, './awp/utils/')\n",
    "\n",
    "from DataLoader import *\n",
    "from training import *\n",
    "from capacity import *\n",
    "\n",
    "## scikit learn\n",
    "from sklearn.model_selection import train_test_split\n",
    "from sklearn.linear_model import LogisticRegression, LogisticRegressionCV, SGDClassifier\n",
    "from sklearn.ensemble import RandomForestClassifier\n",
    "from sklearn.neural_network import MLPClassifier\n",
    "from sklearn.naive_bayes import GaussianNB\n",
    "from sklearn.tree import DecisionTreeClassifier\n",
    "from sklearn.svm import SVC\n",
    "from sklearn import model_selection\n",
    "from sklearn.metrics import accuracy_score, log_loss\n",
    "\n",
    "from sklearn.model_selection import train_test_split\n",
    "\n",
    "import warnings\n",
    "warnings.filterwarnings('ignore')\n",
    "sns.set()\n",
    "sns.set_style('whitegrid')\n",
    "%matplotlib inline"
   ]
  },
  {
   "cell_type": "code",
   "execution_count": 2,
   "metadata": {},
   "outputs": [],
   "source": [
    "## pytorch\n",
    "import torch\n",
    "from torch import nn\n",
    "from torch.utils.data import DataLoader, TensorDataset\n",
    "import torch.optim as optim\n",
    "import torch.nn.functional as F\n",
    "import torch.backends.cudnn as cudnn"
   ]
  },
  {
   "cell_type": "code",
   "execution_count": 3,
   "metadata": {},
   "outputs": [],
   "source": [
    "def make_tensor(X, y):\n",
    "    scaler = MinMaxScaler()\n",
    "    X = scaler.fit_transform(X)\n",
    "    return torch.Tensor(X), torch.Tensor(y)"
   ]
  },
  {
   "cell_type": "code",
   "execution_count": 4,
   "metadata": {},
   "outputs": [],
   "source": [
    "class LogisticRegression(torch.nn.Module):\n",
    "    def __init__(self, n_feature, n_class):\n",
    "        super(LogisticRegression, self).__init__()\n",
    "        self.linear = torch.nn.Linear(n_feature, n_class)\n",
    "\n",
    "    def forward(self, x):       \n",
    "        outputs = self.linear(x)\n",
    "        return outputs"
   ]
  },
  {
   "cell_type": "code",
   "execution_count": 5,
   "metadata": {},
   "outputs": [],
   "source": [
    "def train_model(model, X, y, nepoch, optimizer, criterion, device):\n",
    "    for _ in range(nepoch):\n",
    "        model.train()\n",
    "        optimizer.zero_grad()  # Setting our stored gradients equal to zero\n",
    "        outputs = model(X.to(device))\n",
    "        loss = criterion(torch.squeeze(outputs), y.type(torch.LongTensor).to(device))\n",
    "        loss.backward()  # Computes the gradient of the given tensor w.r.t. graph leaves\n",
    "        optimizer.step()\n",
    "    return model"
   ]
  },
  {
   "cell_type": "code",
   "execution_count": 6,
   "metadata": {},
   "outputs": [],
   "source": [
    "def eval_acc_loss(model, X, y, criterion, device):\n",
    "    n = X.shape[0]\n",
    "    outputs = model(X.to(device))\n",
    "    loss = criterion(torch.squeeze(outputs), y.type(torch.LongTensor).to(device)).item()\n",
    "    _, predicted = outputs.max(1)\n",
    "    acc = predicted.eq(y.type(torch.LongTensor).to(device)).sum().item()/n\n",
    "\n",
    "    return acc, loss"
   ]
  },
  {
   "cell_type": "code",
   "execution_count": 7,
   "metadata": {},
   "outputs": [],
   "source": [
    "def eval_likelihood(model, X, device):\n",
    "    outputs = model(X.to(device))\n",
    "    return F.softmax(outputs, dim=1).cpu().detach().numpy()"
   ]
  },
  {
   "cell_type": "code",
   "execution_count": 77,
   "metadata": {},
   "outputs": [],
   "source": [
    "def fsgm(n, base_model, X, y, epsilon, criterion, device):\n",
    "    nclass = 2\n",
    "    \n",
    "    likelihood = np.zeros((n, nclass))\n",
    "    test_acc = np.zeros((n,))\n",
    "    test_loss = np.zeros((n,))\n",
    "    \n",
    "    for i in tqdm(range(n)):\n",
    "        \n",
    "        model = LogisticRegression(X.shape[1], nclass)\n",
    "        model.load_state_dict(copy.deepcopy(base_model.state_dict()))\n",
    "        optimizer = optim.SGD(model.parameters(), lr=0.01, momentum=0.9)\n",
    "        \n",
    "        \n",
    "        model.train()\n",
    "        optimizer.zero_grad()  # Setting our stored gradients equal to zero\n",
    "        outputs = model(X[i, :].to(device))\n",
    "        loss = criterion(torch.reshape(outputs, (1, 2)), torch.reshape(y[i], (1,)).type(torch.LongTensor).to(device))\n",
    "        loss.backward()\n",
    "        \n",
    "        with torch.no_grad():\n",
    "            for w in model.parameters():\n",
    "                new_w = w + epsilon*w.grad.sign()\n",
    "                w.copy_(new_w)\n",
    "    \n",
    "        test_acc[i], test_loss[i] = eval_acc_loss(model, X, y, criterion, device)\n",
    "        \n",
    "        likelihood[i, :] = F.softmax(model(X[i, :].to(device))).cpu().detach().numpy()\n",
    "    \n",
    "    return test_acc, test_loss, likelihood"
   ]
  },
  {
   "cell_type": "code",
   "execution_count": 78,
   "metadata": {},
   "outputs": [],
   "source": [
    "def perturb(n, X_train, y_train, X_test, y_test, epsilon, tol, criterion, device):\n",
    "    X_traint, y_traint = make_tensor(X_train, y_train)\n",
    "    X_testt, y_testt = make_tensor(X_test, y_test)\n",
    "    nfeature, nclass = X_train.shape[1], len(set(y_train))\n",
    "    \n",
    "    ## base\n",
    "    base_model = LogisticRegression(nfeature, nclass)\n",
    "    optimizer = optim.SGD(base_model.parameters(), lr=0.01, momentum=0.9)\n",
    "    base_model = train_model(base_model, X_traint, y_traint, 1000, optimizer, criterion, device)\n",
    "    base_likelihood = eval_likelihood(base_model, X_testt, device)\n",
    "    \n",
    "    base_test_acc, base_test_loss = eval_acc_loss(base_model, X_testt, y_testt, criterion, device)\n",
    "    print('Acc: {:.4f}, Loss: {:.4f}'.format(base_test_acc, base_test_loss))\n",
    "    ## fsgm\n",
    "    fsgm_test_acc, fsgm_test_loss, fsgm_likelihood = fsgm(n, base_model, X_testt, y_testt, \n",
    "                                                          epsilon, criterion, device)\n",
    "    \n",
    "    base_likelihood_n = base_likelihood[:n, :]\n",
    "    idx = (fsgm_test_loss <= base_test_loss + tol)\n",
    "    likelihood = np.zeros((2, idx.sum(), nclass))\n",
    "    likelihood[0, :, :] = base_likelihood_n[idx, :]\n",
    "    likelihood[1, :, :] = fsgm_likelihood[idx]\n",
    "    \n",
    "    cap = compute_capacity(likelihood)\n",
    "    return cap, fsgm_test_acc, fsgm_test_loss\n",
    "    "
   ]
  },
  {
   "cell_type": "code",
   "execution_count": 79,
   "metadata": {},
   "outputs": [],
   "source": [
    "def compute_epsilon_perturb(n, X_train, y_train, X_test, y_test, epsilon, tols, quantile, criterion, device):\n",
    "    \n",
    "    cap_mean = np.zeros((len(quantile), len(tols)))\n",
    "    cap_std = np.zeros((len(quantile), len(tols)))\n",
    "    \n",
    "    for i in range(len(tols)):\n",
    "        cap, _, _ = perturb(n, X_train, y_train, X_test, y_test, epsilon, tols[i], criterion, device)\n",
    "        \n",
    "        for j in range(len(quantile)):\n",
    "            cap_q = np.percentile(cap, quantile[j])\n",
    "            cap_mean[j, i] = cap[cap>cap_q].mean()\n",
    "            cap_std[j, i] = cap[cap>cap_q].std()/(cap > cap_q).sum()\n",
    "    \n",
    "    return cap_mean, cap_std\n",
    "    "
   ]
  },
  {
   "cell_type": "code",
   "execution_count": 85,
   "metadata": {},
   "outputs": [],
   "source": [
    "ntest = 0.3\n",
    "device = 'cpu'\n",
    "criterion = nn.CrossEntropyLoss()\n",
    "n = 1000\n",
    "epsilon = 1e-5\n",
    "tols = np.array([0.01, 0.02, 0.05, 0.10])\n",
    "quantile = np.array([95, 99])"
   ]
  },
  {
   "cell_type": "code",
   "execution_count": 86,
   "metadata": {},
   "outputs": [
    {
     "name": "stdout",
     "output_type": "stream",
     "text": [
      "Acc: 0.6370, Loss: 0.6333\n"
     ]
    },
    {
     "name": "stderr",
     "output_type": "stream",
     "text": [
      "100%|███████████████████████████████████████████████████████████████████████████████████████████████████████████████████████████████████████████████████████████| 1000/1000 [00:00<00:00, 1023.78it/s]\n"
     ]
    },
    {
     "name": "stdout",
     "output_type": "stream",
     "text": [
      "Acc: 0.6402, Loss: 0.6339\n"
     ]
    },
    {
     "name": "stderr",
     "output_type": "stream",
     "text": [
      "100%|███████████████████████████████████████████████████████████████████████████████████████████████████████████████████████████████████████████████████████████| 1000/1000 [00:00<00:00, 1067.45it/s]\n"
     ]
    },
    {
     "name": "stdout",
     "output_type": "stream",
     "text": [
      "Acc: 0.6370, Loss: 0.6333\n"
     ]
    },
    {
     "name": "stderr",
     "output_type": "stream",
     "text": [
      "100%|███████████████████████████████████████████████████████████████████████████████████████████████████████████████████████████████████████████████████████████| 1000/1000 [00:00<00:00, 1054.80it/s]\n"
     ]
    },
    {
     "name": "stdout",
     "output_type": "stream",
     "text": [
      "Acc: 0.6389, Loss: 0.6331\n"
     ]
    },
    {
     "name": "stderr",
     "output_type": "stream",
     "text": [
      "100%|███████████████████████████████████████████████████████████████████████████████████████████████████████████████████████████████████████████████████████████| 1000/1000 [00:00<00:00, 1085.28it/s]\n"
     ]
    }
   ],
   "source": [
    "df = load_data(name='compas')\n",
    "X = df.drop(['is_recid'], axis=1).values\n",
    "y = df['is_recid'].values\n",
    "X = np.hstack((X, np.ones((X.shape[0], 1))))\n",
    "X_train, X_test, y_train, y_test = train_test_split(X, y, test_size=ntest, random_state=42)\n",
    "compas_cap_mean, compas_cap_std = compute_epsilon_perturb(n, X_train, y_train, X_test, y_test, epsilon, tols, quantile, criterion, device)"
   ]
  },
  {
   "cell_type": "code",
   "execution_count": 87,
   "metadata": {},
   "outputs": [
    {
     "name": "stdout",
     "output_type": "stream",
     "text": [
      "Acc: 0.7177, Loss: 0.5419\n"
     ]
    },
    {
     "name": "stderr",
     "output_type": "stream",
     "text": [
      "100%|████████████████████████████████████████████████████████████████████████████████████████████████████████████████████████████████████████████████████████████| 1000/1000 [00:01<00:00, 874.05it/s]\n"
     ]
    },
    {
     "name": "stdout",
     "output_type": "stream",
     "text": [
      "Acc: 0.7172, Loss: 0.5417\n"
     ]
    },
    {
     "name": "stderr",
     "output_type": "stream",
     "text": [
      "100%|████████████████████████████████████████████████████████████████████████████████████████████████████████████████████████████████████████████████████████████| 1000/1000 [00:01<00:00, 933.95it/s]\n"
     ]
    },
    {
     "name": "stdout",
     "output_type": "stream",
     "text": [
      "Acc: 0.7177, Loss: 0.5421\n"
     ]
    },
    {
     "name": "stderr",
     "output_type": "stream",
     "text": [
      "100%|████████████████████████████████████████████████████████████████████████████████████████████████████████████████████████████████████████████████████████████| 1000/1000 [00:01<00:00, 864.37it/s]\n"
     ]
    },
    {
     "name": "stdout",
     "output_type": "stream",
     "text": [
      "Acc: 0.7184, Loss: 0.5423\n"
     ]
    },
    {
     "name": "stderr",
     "output_type": "stream",
     "text": [
      "100%|███████████████████████████████████████████████████████████████████████████████████████████████████████████████████████████████████████████████████████████| 1000/1000 [00:00<00:00, 1002.23it/s]\n"
     ]
    }
   ],
   "source": [
    "df = load_hsls('./data/HSLS/', 'hsls_df_knn_impute_past_v2.pkl', [])\n",
    "X = df.drop(['gradebin'], axis=1).values\n",
    "y = df['gradebin'].values\n",
    "X_train, X_test, y_train, y_test = train_test_split(X, y, test_size=ntest, random_state=1)\n",
    "hsls_cap_mean, hsls_cap_std = compute_epsilon_perturb(n, X_train, y_train, X_test, y_test, epsilon, tols, quantile, criterion, device)"
   ]
  },
  {
   "cell_type": "code",
   "execution_count": 89,
   "metadata": {},
   "outputs": [
    {
     "data": {
      "image/png": "[encoded data removed]",
      "text/plain": [
       "<Figure size 432x216 with 1 Axes>"
      ]
     },
     "metadata": {
      "needs_background": "light"
     },
     "output_type": "display_data"
    }
   ],
   "source": [
    "fig, ax = plt.subplots(1, 1, figsize=(6, 3))\n",
    "compas_color = ['dodgerblue', 'mediumblue']\n",
    "hsls_color = ['orange', 'orangered']\n",
    "x = np.arange(len(tols))\n",
    "\n",
    "for i in range(len(quantile)):\n",
    "    ax.errorbar(x, y=2**compas_cap_mean[i, :], yerr=compas_cap_std[i, :], \n",
    "                label='COMPAS ({:1d}% tail)'.format(100-quantile[i]), color=compas_color[i])\n",
    "\n",
    "for i in range(len(quantile)):\n",
    "    ax.errorbar(x, y=2**hsls_cap_mean[i, :], yerr=hsls_cap_std[i, :], \n",
    "                label='HSLS ({:1d}% tail)'.format(100-quantile[i]), color=hsls_color[i])\n",
    "    \n",
    "ax.set_xticks(np.arange(len(tols)))\n",
    "ax.set_xticklabels(['{:.2f}'.format(e) for e in tols])\n",
    "ax.set_xlabel(r'Rashomon parameter $\\epsilon$')\n",
    "ax.set_ylabel(r'$2^{Rashomon\\ \\ Capacity}$');\n",
    "ax.legend(loc='center', ncol=2)\n",
    "\n",
    "plt.tight_layout()\n",
    "plt.savefig('compas-hsls-fsgm.png', format='png', dpi=300)"
   ]
  }
 ],
 "metadata": {
  "kernelspec": {
   "display_name": "Python 3 (ipykernel)",
   "language": "python",
   "name": "python3"
  },
  "language_info": {
   "codemirror_mode": {
    "name": "ipython",
    "version": 3
   },
   "file_extension": ".py",
   "mimetype": "text/x-python",
   "name": "python",
   "nbconvert_exporter": "python",
   "pygments_lexer": "ipython3",
   "version": "3.9.0"
  }
 },
 "nbformat": 4,
 "nbformat_minor": 2
}
